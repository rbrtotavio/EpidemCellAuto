{
 "cells": [
  {
   "cell_type": "code",
   "execution_count": 1,
   "id": "68a36273",
   "metadata": {},
   "outputs": [],
   "source": [
    "import sys\n",
    "import os\n",
    "import json\n",
    "import numpy as np\n",
    "import pandas as pd\n",
    "import ipywidgets as widgets\n",
    "from ipywidgets import interact, IntSlider, FloatSlider, Button, HBox, VBox\n",
    "from IPython.display import display, clear_output, Image\n",
    "import matplotlib.pyplot as plt\n",
    "from IPython.display import HTML, display, clear_output, Image\n",
    "import tempfile\n",
    "import time\n",
    "\n",
    "# Adiciona a pasta 'src' ao caminho do Python\n",
    "src_path = os.path.abspath(os.path.join(os.getcwd(), '..', 'src'))\n",
    "if src_path not in sys.path:\n",
    "    sys.path.append(src_path)\n",
    "\n",
    "from simulation import run_simulation, save_results, load_parameters\n",
    "from utils import plot_sir_curves, save_grid_animation, calculate_box_counting_dimension\n",
    "from model import EpidemiaCA"
   ]
  },
  {
   "cell_type": "code",
   "execution_count": 2,
   "id": "d23f2e78",
   "metadata": {},
   "outputs": [],
   "source": [
    "default_params_path = '../data/raw/parameters.json'\n",
    "default_params = load_parameters(default_params_path)\n",
    "\n",
    "def run_simulation_and_display(params):\n",
    "    \n",
    "    # A mensagem de \"carregando\" será exibida e, em seguida,\n",
    "    # esta função irá executar o código abaixo.\n",
    "\n",
    "    history, state_counts = run_simulation(params)\n",
    "    \n",
    "    with tempfile.TemporaryDirectory() as temp_dir:\n",
    "        # Salva os gráficos e o GIF na pasta temporária\n",
    "        plot_sir_curves(pd.DataFrame(state_counts), temp_dir)\n",
    "        save_grid_animation(history, temp_dir)\n",
    "\n",
    "        # Limpa a mensagem de \"Simulação em andamento...\"\n",
    "        clear_output(wait=True)\n",
    "        \n",
    "        # Exibe os resultados finais\n",
    "        print(f\"Simulação concluída com os parâmetros: {params}\")\n",
    "        \n",
    "        # Exibe a grade final\n",
    "        plt.figure(figsize=(6, 6))\n",
    "        plt.imshow(history[-1], cmap='viridis', vmin=0, vmax=2)\n",
    "        plt.title(f\"Estado Final da Simulação após {params['num_steps']} passos\")\n",
    "        plt.show()\n",
    "\n",
    "        # Exibe as curvas SIR\n",
    "        sir_image_path = os.path.join(temp_dir, 'sir_curves.png')\n",
    "        display(Image(filename=sir_image_path))\n",
    "\n",
    "        # Exibe a animação\n",
    "        animation_path = os.path.join(temp_dir, 'simulation.gif')\n",
    "        display(Image(filename=animation_path))\n",
    "        \n",
    "        # Calcula e imprime a dimensão fractal\n",
    "        peak_time = pd.DataFrame(state_counts)['infected'].idxmax()\n",
    "        grid_at_peak = history[peak_time]\n",
    "        dim = calculate_box_counting_dimension(grid_at_peak)\n",
    "        print(f\"Dimensão de box-counting no pico da epidemia: {dim:.4f}\")"
   ]
  },
  {
   "cell_type": "code",
   "execution_count": 3,
   "id": "23ddfcaa",
   "metadata": {},
   "outputs": [
    {
     "data": {
      "application/vnd.jupyter.widget-view+json": {
       "model_id": "f896df16b9e641848cd9d62944ca31bc",
       "version_major": 2,
       "version_minor": 0
      },
      "text/plain": [
       "VBox(children=(HBox(children=(IntSlider(value=100, description='Tamanho da Grade', max=200, min=50, step=10), …"
      ]
     },
     "metadata": {},
     "output_type": "display_data"
    }
   ],
   "source": [
    "# Célula [3] do notebook: Sliders, botão e lógica de exibição\n",
    "\n",
    "# Sliders\n",
    "grid_size_slider = IntSlider(min=50, max=200, step=10, value=default_params['grid_size'], description='Tamanho da Grade')\n",
    "initial_infected_slider = IntSlider(min=1, max=100, step=1, value=default_params['initial_infected'], description='Infectados Iniciais')\n",
    "infection_rate_slider = FloatSlider(min=0.01, max=1.0, step=0.01, value=default_params['infection_rate'], description='Taxa de Infecção')\n",
    "recovery_time_slider = IntSlider(min=1, max=30, step=1, value=default_params['recovery_time'], description='Duração da Doença')\n",
    "immunity_loss_rate_slider = FloatSlider(min=0.0, max=0.1, step=0.001, value=default_params['immunity_loss_rate'], description='Taxa de Perda de Imunidade')\n",
    "population_density_slider = FloatSlider(min=0.1, max=1.0, step=0.05, value=default_params['population_density'], description='Densidade Pop.')\n",
    "movement_rate_slider = FloatSlider(min=0.0, max=1.0, step=0.05, value=default_params['movement_rate'], description='Taxa de Movimento')\n",
    "\n",
    "# Botão de execução\n",
    "run_button = Button(description=\"Iniciar Simulação\")\n",
    "\n",
    "# Crie um widget de saída para os resultados da simulação\n",
    "simulation_output = widgets.Output()\n",
    "\n",
    "def on_run_button_clicked(b):\n",
    "    # O código de simulação agora será executado dentro desta área de saída\n",
    "    with simulation_output:\n",
    "        # A primeira coisa é exibir a mensagem de andamento\n",
    "        display(widgets.Label(\"Simulação em andamento...\"))\n",
    "\n",
    "        # E então, o código de simulação e visualização é executado\n",
    "        params = {\n",
    "            'grid_size': grid_size_slider.value,\n",
    "            'initial_infected': initial_infected_slider.value,\n",
    "            'infection_rate': infection_rate_slider.value,\n",
    "            'recovery_time': recovery_time_slider.value,\n",
    "            'immunity_loss_rate': immunity_loss_rate_slider.value,\n",
    "            'num_steps': default_params['num_steps'],\n",
    "            'population_density': population_density_slider.value,\n",
    "            'movement_rate': movement_rate_slider.value\n",
    "        }\n",
    "        run_simulation_and_display(params)\n",
    "\n",
    "# Atribui a função ao evento de clique do botão\n",
    "run_button.on_click(on_run_button_clicked)\n",
    "\n",
    "# Exibe os widgets em um container, incluindo a área de saída\n",
    "display(VBox([\n",
    "    HBox([grid_size_slider, initial_infected_slider]),\n",
    "    HBox([infection_rate_slider, recovery_time_slider]),\n",
    "    HBox([immunity_loss_rate_slider, population_density_slider]),\n",
    "    HBox([movement_rate_slider]),\n",
    "    run_button,\n",
    "    simulation_output\n",
    "]))"
   ]
  }
 ],
 "metadata": {
  "kernelspec": {
   "display_name": "base",
   "language": "python",
   "name": "python3"
  },
  "language_info": {
   "codemirror_mode": {
    "name": "ipython",
    "version": 3
   },
   "file_extension": ".py",
   "mimetype": "text/x-python",
   "name": "python",
   "nbconvert_exporter": "python",
   "pygments_lexer": "ipython3",
   "version": "3.12.7"
  }
 },
 "nbformat": 4,
 "nbformat_minor": 5
}
