{
 "cells": [
  {
   "cell_type": "code",
   "execution_count": 15,
   "id": "68a36273",
   "metadata": {},
   "outputs": [],
   "source": [
    "import sys\n",
    "import os\n",
    "import pandas as pd\n",
    "import numpy as np\n",
    "import ipywidgets as widgets\n",
    "from ipywidgets import HBox, VBox\n",
    "from IPython.display import display, clear_output, Image\n",
    "import time\n",
    "\n",
    "src_path = os.path.abspath(os.path.join(os.getcwd(), '..', 'src'))\n",
    "if src_path not in sys.path:\n",
    "    sys.path.append(src_path)\n",
    "\n",
    "from simulation import run_simulation, save_results, load_parameters\n",
    "from utils import calculate_box_counting_dimension"
   ]
  },
  {
   "cell_type": "code",
   "execution_count": 2,
   "id": "d23f2e78",
   "metadata": {},
   "outputs": [],
   "source": [
    "default_params_path = '../data/raw/parameters.json'\n",
    "default_params = load_parameters(default_params_path)\n",
    "\n",
    "def run_simulation_and_display(params):\n",
    "    \n",
    "    history, state_counts = run_simulation(params)\n",
    "    \n",
    "    simulation_id = time.strftime(\"%Y%m%d-%H%M%S\")\n",
    "    output_dir = os.path.join('..', 'data', 'results')\n",
    "\n",
    "    peak_time = pd.DataFrame(state_counts)['infected'].idxmax()\n",
    "    grid_at_peak = history[peak_time]\n",
    "    box_counting_dim = calculate_box_counting_dimension(grid_at_peak)\n",
    "    \n",
    "    save_results(simulation_id, history, state_counts, params, box_counting_dim, output_dir=output_dir)\n",
    "    \n",
    "    results_path = os.path.join(output_dir, f\"simulation_{simulation_id}\")\n",
    "    \n",
    "    clear_output(wait=True)\n",
    "    \n",
    "    print(f\"Simulação concluída com os parâmetros: {params}\")\n",
    "    print(f\"Resultados salvos em: {results_path}\")\n",
    "\n",
    "    seir_image_path = os.path.join(results_path, 'seir_curves.png')\n",
    "    display(Image(filename=seir_image_path))\n",
    "\n",
    "    animation_path = os.path.join(results_path, 'simulation.gif')\n",
    "    display(Image(filename=animation_path))\n",
    "    \n",
    "    print(f\"Dimensão de box-counting no pico da epidemia: {box_counting_dim:.4f}\")"
   ]
  },
  {
   "cell_type": "code",
   "execution_count": 3,
   "id": "23ddfcaa",
   "metadata": {},
   "outputs": [
    {
     "data": {
      "application/vnd.jupyter.widget-view+json": {
       "model_id": "ed1431bd9c3f44bd87eb1a9adc40d2a2",
       "version_major": 2,
       "version_minor": 0
      },
      "text/plain": [
       "VBox(children=(HBox(children=(VBox(children=(Label(value='Tamanho da Grade'), IntSlider(value=100, max=200, mi…"
      ]
     },
     "metadata": {},
     "output_type": "display_data"
    }
   ],
   "source": [
    "style_layout = {'description_width': '0px'}\n",
    "\n",
    "random_seed_widget = VBox([\n",
    "    widgets.Label('Semente Aleatória'),\n",
    "    widgets.IntText(value=default_params['random_seed'], style=style_layout)])\n",
    "\n",
    "col1 = VBox([\n",
    "    widgets.Label('Tamanho da Grade'),\n",
    "    widgets.IntSlider(min=50, max=200, step=10, value=default_params['grid_size'], style=style_layout),\n",
    "    widgets.Label('Taxa de Infecção'),\n",
    "    widgets.FloatSlider(min=0.01, max=1.0, step=0.01, value=default_params['infection_rate'], style=style_layout),\n",
    "    widgets.Label('Taxa de Perda de Imunidade'),\n",
    "    widgets.FloatSlider(min=0.0, max=0.1, step=0.001, value=default_params['immunity_loss_rate'], style=style_layout),\n",
    "    widgets.Label('Taxa de Movimento'),\n",
    "    widgets.FloatSlider(min=0.0, max=1.0, step=0.05, value=default_params['movement_rate'], style=style_layout),\n",
    "])\n",
    "\n",
    "col2 = VBox([\n",
    "    widgets.Label('Infectados Iniciais'),\n",
    "    widgets.IntSlider(min=1, max=100, step=1, value=default_params['initial_infected'], style=style_layout),\n",
    "    widgets.Label('Duração da Doença'),\n",
    "    widgets.IntSlider(min=1, max=30, step=1, value=default_params['recovery_time'], style=style_layout),\n",
    "    widgets.Label('Densidade Populacional'),\n",
    "    widgets.FloatSlider(min=0.1, max=1.0, step=0.05, value=default_params['population_density'], style=style_layout),\n",
    "    widgets.Label('Tempo de Exposição'),\n",
    "    widgets.IntSlider(min=1, max=30, step=1, value=default_params['exposed_time'], style=style_layout),\n",
    "])\n",
    "\n",
    "run_button = widgets.Button(description=\"Iniciar Simulação\")\n",
    "\n",
    "simulation_output = widgets.Output()\n",
    "\n",
    "def on_run_button_clicked(b):\n",
    "    with simulation_output:\n",
    "        display(widgets.Label(\"Simulação em andamento...\"))\n",
    "\n",
    "        params = {\n",
    "            'grid_size': col1.children[1].value,\n",
    "            'initial_infected': col2.children[1].value,\n",
    "            'infection_rate': col1.children[3].value,\n",
    "            'recovery_time': col2.children[3].value,\n",
    "            'immunity_loss_rate': col1.children[5].value,\n",
    "            'population_density': col2.children[5].value,\n",
    "            'movement_rate': col1.children[7].value,\n",
    "            'exposed_time': col2.children[7].value,\n",
    "            'num_steps': default_params['num_steps'],\n",
    "            'random_seed': random_seed_widget.children[1].value\n",
    "        }\n",
    "        run_simulation_and_display(params)\n",
    "\n",
    "run_button.on_click(on_run_button_clicked)\n",
    "\n",
    "display(VBox([\n",
    "    HBox([col1, col2]),\n",
    "    random_seed_widget,\n",
    "    run_button,\n",
    "    simulation_output \n",
    "]))"
   ]
  }
 ],
 "metadata": {
  "kernelspec": {
   "display_name": "base",
   "language": "python",
   "name": "python3"
  },
  "language_info": {
   "codemirror_mode": {
    "name": "ipython",
    "version": 3
   },
   "file_extension": ".py",
   "mimetype": "text/x-python",
   "name": "python",
   "nbconvert_exporter": "python",
   "pygments_lexer": "ipython3",
   "version": "3.12.7"
  }
 },
 "nbformat": 4,
 "nbformat_minor": 5
}
